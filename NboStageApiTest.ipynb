{
 "cells": [
  {
   "cell_type": "code",
   "execution_count": 0,
   "metadata": {
    "application/vnd.databricks.v1+cell": {
     "cellMetadata": {
      "byteLimit": 2048000,
      "rowLimit": 10000
     },
     "inputWidgets": {},
     "nuid": "155b6d81-8379-44d9-bfa3-fa8aa9945163",
     "showTitle": false,
     "title": ""
    }
   },
   "outputs": [],
   "source": [
    "import requests\n",
    "from pyspark.sql import Row\n",
    "import json\n",
    "\n",
    "def get_cat(API_KEY):\n",
    "    # url = dbutils.secrets.get(\"SecretsStorm\", \"URL_TOKEN_STORM\")\n",
    "    url = f\"https://api.thecatapi.com/v1/images/search?api_key={API_KEY}\"\n",
    "\n",
    "    headers = { 'x-api-key' : f'{API_KEY}' }\n",
    "\n",
    "    response = requests.get(url, headers=headers)\n",
    "\n",
    "    if response.status_code == 200:\n",
    "        data = response.json()\n",
    "        return data\n",
    "    else:\n",
    "        return print(f\"Error: {response.status_code}, {response.text}\")"
   ]
  },
  {
   "cell_type": "code",
   "execution_count": 0,
   "metadata": {
    "application/vnd.databricks.v1+cell": {
     "cellMetadata": {
      "byteLimit": 2048000,
      "rowLimit": 10000
     },
     "inputWidgets": {},
     "nuid": "829d5ae0-8049-4e5a-96ac-20c9e611d605",
     "showTitle": false,
     "title": ""
    }
   },
   "outputs": [],
   "source": [
    "API_KEY = dbutils.secrets.get(\"SecretsApiTest\", \"API_KEY\")\n",
    "\n",
    "data = get_cat(API_KEY)"
   ]
  },
  {
   "cell_type": "code",
   "execution_count": 0,
   "metadata": {
    "application/vnd.databricks.v1+cell": {
     "cellMetadata": {
      "byteLimit": 2048000,
      "rowLimit": 10000
     },
     "inputWidgets": {},
     "nuid": "24003338-28b3-411e-b7c1-6e09fae83991",
     "showTitle": false,
     "title": ""
    }
   },
   "outputs": [
    {
     "output_type": "stream",
     "name": "stdout",
     "output_type": "stream",
     "text": [
      "Número da página: 2\nNúmero da página: 3\nNúmero da página: 4\nNúmero da página: 5\nNúmero da página: 6\nNúmero da página: 7\nNúmero da página: 8\nNúmero da página: 9\nNúmero da página: 10\nNúmero da página: 11\n"
     ]
    }
   ],
   "source": [
    "import time\n",
    "\n",
    "all_data = []\n",
    "page = 1\n",
    "\n",
    "while True and page <= 10:\n",
    "    data = get_cat(API_KEY)\n",
    "    time.sleep(1)\n",
    "    all_data.extend(data)\n",
    "    page += 1\n",
    "    print(f'Número da página: {page}')\n",
    "\n",
    "    time.sleep(1)"
   ]
  },
  {
   "cell_type": "code",
   "execution_count": 0,
   "metadata": {
    "application/vnd.databricks.v1+cell": {
     "cellMetadata": {
      "byteLimit": 2048000,
      "rowLimit": 10000
     },
     "inputWidgets": {},
     "nuid": "7a544de8-2975-45a6-9b9d-47166553fc3b",
     "showTitle": false,
     "title": ""
    }
   },
   "outputs": [],
   "source": [
    "df = spark.read.json(spark.sparkContext.parallelize([all_data]))"
   ]
  },
  {
   "cell_type": "code",
   "execution_count": 0,
   "metadata": {
    "application/vnd.databricks.v1+cell": {
     "cellMetadata": {
      "byteLimit": 2048000,
      "rowLimit": 10000
     },
     "inputWidgets": {},
     "nuid": "fe2c81a1-9ad6-449f-ac52-41ec57ca024c",
     "showTitle": false,
     "title": ""
    }
   },
   "outputs": [],
   "source": [
    "df.createOrReplaceTempView('tempTbCat')"
   ]
  },
  {
   "cell_type": "code",
   "execution_count": 0,
   "metadata": {
    "application/vnd.databricks.v1+cell": {
     "cellMetadata": {
      "byteLimit": 2048000,
      "implicitDf": true,
      "rowLimit": 10000
     },
     "inputWidgets": {},
     "nuid": "7bda75c6-8e12-4f3f-8c7c-c6b6ad628ca9",
     "showTitle": false,
     "title": ""
    }
   },
   "outputs": [],
   "source": [
    "dfStg = spark.sql(\"\"\"SELECT *,\n",
    "                  dateadd(hour,-3,current_timestamp()) as dt_Creation\n",
    "                  from tempTbCat                 \n",
    "\"\"\")"
   ]
  },
  {
   "cell_type": "code",
   "execution_count": 0,
   "metadata": {
    "application/vnd.databricks.v1+cell": {
     "cellMetadata": {
      "byteLimit": 2048000,
      "rowLimit": 10000
     },
     "inputWidgets": {},
     "nuid": "1ecc1fde-ae32-4ae9-9b7d-81e058451714",
     "showTitle": false,
     "title": ""
    }
   },
   "outputs": [
    {
     "output_type": "execute_result",
     "data": {
      "text/plain": [
       "DataFrame[]"
      ]
     },
     "execution_count": 81,
     "metadata": {},
     "output_type": "execute_result"
    }
   ],
   "source": [
    "(dfStg\n",
    "    .write\n",
    "    .format('delta')\n",
    "    .mode('overWrite')\n",
    "    .save('/mnt/DATALAKE/dev/Api_Test/tbApiCat/stage')\n",
    ")\n",
    "spark.sql(\"create table if not exists dev.tb_stg_api_cat using delta location '/mnt/DATALAKE/dev/Api_Test/tbApiCat/stage'\")"
   ]
  },
  {
   "cell_type": "code",
   "execution_count": 0,
   "metadata": {
    "application/vnd.databricks.v1+cell": {
     "cellMetadata": {
      "byteLimit": 2048000,
      "rowLimit": 10000
     },
     "inputWidgets": {},
     "nuid": "b5f17956-122f-4379-85b8-ff248269290b",
     "showTitle": false,
     "title": ""
    }
   },
   "outputs": [],
   "source": []
  }
 ],
 "metadata": {
  "application/vnd.databricks.v1+notebook": {
   "dashboards": [],
   "language": "python",
   "notebookMetadata": {
    "mostRecentlyExecutedCommandWithImplicitDF": {
     "commandId": 3521540277099816,
     "dataframes": [
      "_sqldf"
     ]
    },
    "pythonIndentUnit": 4
   },
   "notebookName": "NboStageApiTest",
   "widgets": {}
  }
 },
 "nbformat": 4,
 "nbformat_minor": 0
}
