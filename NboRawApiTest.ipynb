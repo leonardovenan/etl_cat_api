{
 "cells": [
  {
   "cell_type": "code",
   "execution_count": 0,
   "metadata": {
    "application/vnd.databricks.v1+cell": {
     "cellMetadata": {
      "byteLimit": 2048000,
      "rowLimit": 10000
     },
     "inputWidgets": {},
     "nuid": "1e094259-5ad4-4413-b1c7-d53944b92b7f",
     "showTitle": false,
     "title": ""
    }
   },
   "outputs": [],
   "source": [
    "# dfRaw = spark.sql(\"select *, dateadd(hour,-3,current_timestamp()) as dt_Update from dev.tb_stg_api_cat\")"
   ]
  },
  {
   "cell_type": "code",
   "execution_count": 0,
   "metadata": {
    "application/vnd.databricks.v1+cell": {
     "cellMetadata": {
      "byteLimit": 2048000,
      "rowLimit": 10000
     },
     "inputWidgets": {},
     "nuid": "b4ecd517-97a0-4bd4-94b1-59390f681629",
     "showTitle": false,
     "title": ""
    }
   },
   "outputs": [],
   "source": [
    "# (dfRaw\n",
    "#     .write\n",
    "#     .format(\"delta\")\n",
    "#     .mode(\"overwrite\")\n",
    "#     .save(\"/mnt/DATALAKE/dev/Api_Test/tbApiCat/raw\")\n",
    "# )\n",
    "# spark.sql(\"create table if not exists dev.tb_raw_api_cat using delta location '/mnt/DATALAKE/dev/Api_Test/tbApiCat/raw'\")"
   ]
  },
  {
   "cell_type": "code",
   "execution_count": 0,
   "metadata": {
    "application/vnd.databricks.v1+cell": {
     "cellMetadata": {
      "byteLimit": 2048000,
      "implicitDf": true,
      "rowLimit": 10000
     },
     "inputWidgets": {},
     "nuid": "6ed0b6fc-1471-4cc2-a6eb-40bf67b14103",
     "showTitle": false,
     "title": ""
    }
   },
   "outputs": [
    {
     "output_type": "display_data",
     "data": {
      "text/html": [
       "<style scoped>\n",
       "  .table-result-container {\n",
       "    max-height: 300px;\n",
       "    overflow: auto;\n",
       "  }\n",
       "  table, th, td {\n",
       "    border: 1px solid black;\n",
       "    border-collapse: collapse;\n",
       "  }\n",
       "  th, td {\n",
       "    padding: 5px;\n",
       "  }\n",
       "  th {\n",
       "    text-align: left;\n",
       "  }\n",
       "</style><div class='table-result-container'><table class='table-result'><thead style='background-color: white'><tr><th>num_affected_rows</th><th>num_updated_rows</th><th>num_deleted_rows</th><th>num_inserted_rows</th></tr></thead><tbody><tr><td>10</td><td>0</td><td>0</td><td>10</td></tr></tbody></table></div>"
      ]
     },
     "metadata": {
      "application/vnd.databricks.v1+output": {
       "addedWidgets": {},
       "aggData": [],
       "aggError": "",
       "aggOverflow": false,
       "aggSchema": [],
       "aggSeriesLimitReached": false,
       "aggType": "",
       "arguments": {},
       "columnCustomDisplayInfos": {},
       "data": [
        [
         10,
         0,
         0,
         10
        ]
       ],
       "datasetInfos": [],
       "dbfsResultPath": null,
       "isJsonSchema": true,
       "metadata": {
        "dataframeName": "_sqldf",
        "executionCount": 15
       },
       "overflow": false,
       "plotOptions": {
        "customPlotOptions": {},
        "displayType": "table",
        "pivotAggregation": null,
        "pivotColumns": null,
        "xColumns": null,
        "yColumns": null
       },
       "removedWidgets": [],
       "schema": [
        {
         "metadata": "{}",
         "name": "num_affected_rows",
         "type": "\"long\""
        },
        {
         "metadata": "{}",
         "name": "num_updated_rows",
         "type": "\"long\""
        },
        {
         "metadata": "{}",
         "name": "num_deleted_rows",
         "type": "\"long\""
        },
        {
         "metadata": "{}",
         "name": "num_inserted_rows",
         "type": "\"long\""
        }
       ],
       "type": "table"
      }
     },
     "output_type": "display_data"
    }
   ],
   "source": [
    "%sql\n",
    "MERGE INTO dev.tb_raw_api_cat AS raw\n",
    "USING dev.tb_stg_api_cat AS stage\n",
    "ON raw.id = stage.id\n",
    "WHEN MATCHED THEN\n",
    "UPDATE SET\n",
    "    raw.id      = stage.id \n",
    "    ,raw.url  = stage.url\n",
    "    ,raw.height = stage.height\n",
    "    ,raw.width = stage.width\n",
    "    ,raw.dt_Update = Dateadd(hour, -3, CURRENT_TIMESTAMP())\n",
    "WHEN NOT MATCHED THEN\n",
    "INSERT\n",
    "(\n",
    "    id\n",
    "    ,url\n",
    "    ,height\n",
    "    ,width\n",
    "    ,dt_Creation\n",
    ")\n",
    "VALUES\n",
    "(\n",
    "    id\n",
    "    ,url\n",
    "    ,height\n",
    "    ,width\n",
    "    ,DATEADD(HOUR, -3, CURRENT_TIMESTAMP())\n",
    ")"
   ]
  },
  {
   "cell_type": "code",
   "execution_count": 0,
   "metadata": {
    "application/vnd.databricks.v1+cell": {
     "cellMetadata": {
      "byteLimit": 2048000,
      "implicitDf": true,
      "rowLimit": 10000
     },
     "inputWidgets": {},
     "nuid": "25065ad0-d453-44ad-8373-395b3e5a3b6f",
     "showTitle": false,
     "title": ""
    }
   },
   "outputs": [
    {
     "output_type": "display_data",
     "data": {
      "text/html": [
       "<style scoped>\n",
       "  .table-result-container {\n",
       "    max-height: 300px;\n",
       "    overflow: auto;\n",
       "  }\n",
       "  table, th, td {\n",
       "    border: 1px solid black;\n",
       "    border-collapse: collapse;\n",
       "  }\n",
       "  th, td {\n",
       "    padding: 5px;\n",
       "  }\n",
       "  th {\n",
       "    text-align: left;\n",
       "  }\n",
       "</style><div class='table-result-container'><table class='table-result'><thead style='background-color: white'><tr><th>height</th><th>id</th><th>url</th><th>width</th><th>dt_Creation</th><th>dt_Update</th></tr></thead><tbody><tr><td>641</td><td>54m</td><td>https://cdn2.thecatapi.com/images/54m.jpg</td><td>467</td><td>2024-01-06T18:47:52.574+0000</td><td>2024-01-06T19:10:44.912+0000</td></tr><tr><td>640</td><td>dmm</td><td>https://cdn2.thecatapi.com/images/dmm.jpg</td><td>427</td><td>2024-01-06T18:47:52.574+0000</td><td>2024-01-06T19:10:44.912+0000</td></tr><tr><td>2099</td><td>p2U4ZXgKL</td><td>https://cdn2.thecatapi.com/images/p2U4ZXgKL.jpg</td><td>1664</td><td>2024-01-06T18:47:52.574+0000</td><td>2024-01-06T19:10:44.912+0000</td></tr><tr><td>600</td><td>a98</td><td>https://cdn2.thecatapi.com/images/a98.jpg</td><td>800</td><td>2024-01-06T18:47:52.574+0000</td><td>2024-01-06T19:10:44.912+0000</td></tr><tr><td>958</td><td>20i</td><td>https://cdn2.thecatapi.com/images/20i.jpg</td><td>960</td><td>2024-01-06T18:47:52.574+0000</td><td>2024-01-06T19:10:44.912+0000</td></tr><tr><td>3264</td><td>b0u</td><td>https://cdn2.thecatapi.com/images/b0u.jpg</td><td>2448</td><td>2024-01-06T18:47:52.574+0000</td><td>2024-01-06T19:10:44.912+0000</td></tr><tr><td>375</td><td>drm</td><td>https://cdn2.thecatapi.com/images/drm.jpg</td><td>500</td><td>2024-01-06T18:47:52.574+0000</td><td>2024-01-06T19:10:44.912+0000</td></tr><tr><td>334</td><td>bh2</td><td>https://cdn2.thecatapi.com/images/bh2.jpg</td><td>500</td><td>2024-01-06T18:47:52.574+0000</td><td>2024-01-06T19:10:44.912+0000</td></tr><tr><td>600</td><td>47e</td><td>https://cdn2.thecatapi.com/images/47e.jpg</td><td>900</td><td>2024-01-06T18:47:52.574+0000</td><td>2024-01-06T19:10:44.912+0000</td></tr><tr><td>360</td><td>MTYyOTYwNw</td><td>https://cdn2.thecatapi.com/images/MTYyOTYwNw.jpg</td><td>640</td><td>2024-01-06T18:47:52.574+0000</td><td>2024-01-06T19:10:44.912+0000</td></tr><tr><td>2147</td><td>TuSyTkt2n</td><td>https://cdn2.thecatapi.com/images/TuSyTkt2n.jpg</td><td>2475</td><td>2024-01-06T18:47:52.574+0000</td><td>2024-01-06T19:10:44.912+0000</td></tr><tr><td>336</td><td>7ak</td><td>https://cdn2.thecatapi.com/images/7ak.jpg</td><td>500</td><td>2024-01-06T18:47:52.574+0000</td><td>2024-01-06T19:10:44.912+0000</td></tr><tr><td>333</td><td>MTUyMTIyNQ</td><td>https://cdn2.thecatapi.com/images/MTUyMTIyNQ.jpg</td><td>500</td><td>2024-01-06T18:47:52.574+0000</td><td>2024-01-06T19:10:44.912+0000</td></tr><tr><td>281</td><td>b2m</td><td>https://cdn2.thecatapi.com/images/b2m.gif</td><td>500</td><td>2024-01-06T18:47:52.574+0000</td><td>2024-01-06T19:10:44.912+0000</td></tr><tr><td>989</td><td>akv</td><td>https://cdn2.thecatapi.com/images/akv.jpg</td><td>1555</td><td>2024-01-06T18:47:52.574+0000</td><td>2024-01-06T19:10:44.912+0000</td></tr><tr><td>466</td><td>MTgzNDM0Ng</td><td>https://cdn2.thecatapi.com/images/MTgzNDM0Ng.jpg</td><td>700</td><td>2024-01-06T18:47:52.574+0000</td><td>2024-01-06T19:10:44.912+0000</td></tr><tr><td>612</td><td>b61</td><td>https://cdn2.thecatapi.com/images/b61.jpg</td><td>612</td><td>2024-01-06T18:47:52.574+0000</td><td>2024-01-06T19:10:44.912+0000</td></tr><tr><td>341</td><td>b9l</td><td>https://cdn2.thecatapi.com/images/b9l.jpg</td><td>500</td><td>2024-01-06T18:47:52.574+0000</td><td>2024-01-06T19:10:44.912+0000</td></tr><tr><td>333</td><td>bfm</td><td>https://cdn2.thecatapi.com/images/bfm.jpg</td><td>500</td><td>2024-01-06T18:47:52.574+0000</td><td>2024-01-06T19:10:44.912+0000</td></tr><tr><td>640</td><td>rs</td><td>https://cdn2.thecatapi.com/images/rs.jpg</td><td>480</td><td>2024-01-06T18:47:52.574+0000</td><td>2024-01-06T19:10:44.912+0000</td></tr><tr><td>675</td><td>dgk</td><td>https://cdn2.thecatapi.com/images/dgk.jpg</td><td>1024</td><td>2024-01-06T19:12:33.039+0000</td><td>null</td></tr><tr><td>429</td><td>dav</td><td>https://cdn2.thecatapi.com/images/dav.jpg</td><td>640</td><td>2024-01-06T19:12:33.039+0000</td><td>null</td></tr><tr><td>1067</td><td>BDb8ZXb1v</td><td>https://cdn2.thecatapi.com/images/BDb8ZXb1v.jpg</td><td>1600</td><td>2024-01-06T19:12:33.039+0000</td><td>null</td></tr><tr><td>333</td><td>MjA1NjQxMg</td><td>https://cdn2.thecatapi.com/images/MjA1NjQxMg.jpg</td><td>500</td><td>2024-01-06T19:12:33.039+0000</td><td>null</td></tr><tr><td>380</td><td>beb</td><td>https://cdn2.thecatapi.com/images/beb.jpg</td><td>500</td><td>2024-01-06T19:12:33.039+0000</td><td>null</td></tr><tr><td>371</td><td>eh1</td><td>https://cdn2.thecatapi.com/images/eh1.jpg</td><td>500</td><td>2024-01-06T19:12:33.039+0000</td><td>null</td></tr><tr><td>261</td><td>cul</td><td>https://cdn2.thecatapi.com/images/cul.gif</td><td>240</td><td>2024-01-06T19:12:33.039+0000</td><td>null</td></tr><tr><td>263</td><td>3k7</td><td>https://cdn2.thecatapi.com/images/3k7.gif</td><td>350</td><td>2024-01-06T19:12:33.039+0000</td><td>null</td></tr><tr><td>2448</td><td>6y4uxeRjW</td><td>https://cdn2.thecatapi.com/images/6y4uxeRjW.jpg</td><td>3264</td><td>2024-01-06T19:12:33.039+0000</td><td>null</td></tr><tr><td>429</td><td>MTcxMzc5Mg</td><td>https://cdn2.thecatapi.com/images/MTcxMzc5Mg.jpg</td><td>640</td><td>2024-01-06T19:12:33.039+0000</td><td>null</td></tr></tbody></table></div>"
      ]
     },
     "metadata": {
      "application/vnd.databricks.v1+output": {
       "addedWidgets": {},
       "aggData": [],
       "aggError": "",
       "aggOverflow": false,
       "aggSchema": [],
       "aggSeriesLimitReached": false,
       "aggType": "",
       "arguments": {},
       "columnCustomDisplayInfos": {},
       "data": [
        [
         641,
         "54m",
         "https://cdn2.thecatapi.com/images/54m.jpg",
         467,
         "2024-01-06T18:47:52.574+0000",
         "2024-01-06T19:10:44.912+0000"
        ],
        [
         640,
         "dmm",
         "https://cdn2.thecatapi.com/images/dmm.jpg",
         427,
         "2024-01-06T18:47:52.574+0000",
         "2024-01-06T19:10:44.912+0000"
        ],
        [
         2099,
         "p2U4ZXgKL",
         "https://cdn2.thecatapi.com/images/p2U4ZXgKL.jpg",
         1664,
         "2024-01-06T18:47:52.574+0000",
         "2024-01-06T19:10:44.912+0000"
        ],
        [
         600,
         "a98",
         "https://cdn2.thecatapi.com/images/a98.jpg",
         800,
         "2024-01-06T18:47:52.574+0000",
         "2024-01-06T19:10:44.912+0000"
        ],
        [
         958,
         "20i",
         "https://cdn2.thecatapi.com/images/20i.jpg",
         960,
         "2024-01-06T18:47:52.574+0000",
         "2024-01-06T19:10:44.912+0000"
        ],
        [
         3264,
         "b0u",
         "https://cdn2.thecatapi.com/images/b0u.jpg",
         2448,
         "2024-01-06T18:47:52.574+0000",
         "2024-01-06T19:10:44.912+0000"
        ],
        [
         375,
         "drm",
         "https://cdn2.thecatapi.com/images/drm.jpg",
         500,
         "2024-01-06T18:47:52.574+0000",
         "2024-01-06T19:10:44.912+0000"
        ],
        [
         334,
         "bh2",
         "https://cdn2.thecatapi.com/images/bh2.jpg",
         500,
         "2024-01-06T18:47:52.574+0000",
         "2024-01-06T19:10:44.912+0000"
        ],
        [
         600,
         "47e",
         "https://cdn2.thecatapi.com/images/47e.jpg",
         900,
         "2024-01-06T18:47:52.574+0000",
         "2024-01-06T19:10:44.912+0000"
        ],
        [
         360,
         "MTYyOTYwNw",
         "https://cdn2.thecatapi.com/images/MTYyOTYwNw.jpg",
         640,
         "2024-01-06T18:47:52.574+0000",
         "2024-01-06T19:10:44.912+0000"
        ],
        [
         2147,
         "TuSyTkt2n",
         "https://cdn2.thecatapi.com/images/TuSyTkt2n.jpg",
         2475,
         "2024-01-06T18:47:52.574+0000",
         "2024-01-06T19:10:44.912+0000"
        ],
        [
         336,
         "7ak",
         "https://cdn2.thecatapi.com/images/7ak.jpg",
         500,
         "2024-01-06T18:47:52.574+0000",
         "2024-01-06T19:10:44.912+0000"
        ],
        [
         333,
         "MTUyMTIyNQ",
         "https://cdn2.thecatapi.com/images/MTUyMTIyNQ.jpg",
         500,
         "2024-01-06T18:47:52.574+0000",
         "2024-01-06T19:10:44.912+0000"
        ],
        [
         281,
         "b2m",
         "https://cdn2.thecatapi.com/images/b2m.gif",
         500,
         "2024-01-06T18:47:52.574+0000",
         "2024-01-06T19:10:44.912+0000"
        ],
        [
         989,
         "akv",
         "https://cdn2.thecatapi.com/images/akv.jpg",
         1555,
         "2024-01-06T18:47:52.574+0000",
         "2024-01-06T19:10:44.912+0000"
        ],
        [
         466,
         "MTgzNDM0Ng",
         "https://cdn2.thecatapi.com/images/MTgzNDM0Ng.jpg",
         700,
         "2024-01-06T18:47:52.574+0000",
         "2024-01-06T19:10:44.912+0000"
        ],
        [
         612,
         "b61",
         "https://cdn2.thecatapi.com/images/b61.jpg",
         612,
         "2024-01-06T18:47:52.574+0000",
         "2024-01-06T19:10:44.912+0000"
        ],
        [
         341,
         "b9l",
         "https://cdn2.thecatapi.com/images/b9l.jpg",
         500,
         "2024-01-06T18:47:52.574+0000",
         "2024-01-06T19:10:44.912+0000"
        ],
        [
         333,
         "bfm",
         "https://cdn2.thecatapi.com/images/bfm.jpg",
         500,
         "2024-01-06T18:47:52.574+0000",
         "2024-01-06T19:10:44.912+0000"
        ],
        [
         640,
         "rs",
         "https://cdn2.thecatapi.com/images/rs.jpg",
         480,
         "2024-01-06T18:47:52.574+0000",
         "2024-01-06T19:10:44.912+0000"
        ],
        [
         675,
         "dgk",
         "https://cdn2.thecatapi.com/images/dgk.jpg",
         1024,
         "2024-01-06T19:12:33.039+0000",
         null
        ],
        [
         429,
         "dav",
         "https://cdn2.thecatapi.com/images/dav.jpg",
         640,
         "2024-01-06T19:12:33.039+0000",
         null
        ],
        [
         1067,
         "BDb8ZXb1v",
         "https://cdn2.thecatapi.com/images/BDb8ZXb1v.jpg",
         1600,
         "2024-01-06T19:12:33.039+0000",
         null
        ],
        [
         333,
         "MjA1NjQxMg",
         "https://cdn2.thecatapi.com/images/MjA1NjQxMg.jpg",
         500,
         "2024-01-06T19:12:33.039+0000",
         null
        ],
        [
         380,
         "beb",
         "https://cdn2.thecatapi.com/images/beb.jpg",
         500,
         "2024-01-06T19:12:33.039+0000",
         null
        ],
        [
         371,
         "eh1",
         "https://cdn2.thecatapi.com/images/eh1.jpg",
         500,
         "2024-01-06T19:12:33.039+0000",
         null
        ],
        [
         261,
         "cul",
         "https://cdn2.thecatapi.com/images/cul.gif",
         240,
         "2024-01-06T19:12:33.039+0000",
         null
        ],
        [
         263,
         "3k7",
         "https://cdn2.thecatapi.com/images/3k7.gif",
         350,
         "2024-01-06T19:12:33.039+0000",
         null
        ],
        [
         2448,
         "6y4uxeRjW",
         "https://cdn2.thecatapi.com/images/6y4uxeRjW.jpg",
         3264,
         "2024-01-06T19:12:33.039+0000",
         null
        ],
        [
         429,
         "MTcxMzc5Mg",
         "https://cdn2.thecatapi.com/images/MTcxMzc5Mg.jpg",
         640,
         "2024-01-06T19:12:33.039+0000",
         null
        ]
       ],
       "datasetInfos": [],
       "dbfsResultPath": null,
       "isJsonSchema": true,
       "metadata": {
        "dataframeName": "_sqldf",
        "executionCount": 16
       },
       "overflow": false,
       "plotOptions": {
        "customPlotOptions": {},
        "displayType": "table",
        "pivotAggregation": null,
        "pivotColumns": null,
        "xColumns": null,
        "yColumns": null
       },
       "removedWidgets": [],
       "schema": [
        {
         "metadata": "{}",
         "name": "height",
         "type": "\"long\""
        },
        {
         "metadata": "{}",
         "name": "id",
         "type": "\"string\""
        },
        {
         "metadata": "{}",
         "name": "url",
         "type": "\"string\""
        },
        {
         "metadata": "{}",
         "name": "width",
         "type": "\"long\""
        },
        {
         "metadata": "{}",
         "name": "dt_Creation",
         "type": "\"timestamp\""
        },
        {
         "metadata": "{}",
         "name": "dt_Update",
         "type": "\"timestamp\""
        }
       ],
       "type": "table"
      }
     },
     "output_type": "display_data"
    }
   ],
   "source": [
    "%sql\n",
    "select * from dev.tb_raw_api_cat"
   ]
  }
 ],
 "metadata": {
  "application/vnd.databricks.v1+notebook": {
   "dashboards": [],
   "language": "python",
   "notebookMetadata": {
    "mostRecentlyExecutedCommandWithImplicitDF": {
     "commandId": 3521540277099824,
     "dataframes": [
      "_sqldf"
     ]
    },
    "pythonIndentUnit": 4
   },
   "notebookName": "NboRawApiTest",
   "widgets": {}
  }
 },
 "nbformat": 4,
 "nbformat_minor": 0
}
