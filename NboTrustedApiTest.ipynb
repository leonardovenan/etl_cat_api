{
 "cells": [
  {
   "cell_type": "code",
   "execution_count": 0,
   "metadata": {
    "application/vnd.databricks.v1+cell": {
     "cellMetadata": {
      "byteLimit": 2048000,
      "rowLimit": 10000
     },
     "inputWidgets": {},
     "nuid": "d1fb7ac7-70a2-45a4-98d4-d00b87317dc6",
     "showTitle": false,
     "title": ""
    }
   },
   "outputs": [],
   "source": [
    "dfTrusted = spark.sql(\"\"\"\n",
    "select\n",
    "    cast(id as string) as id\n",
    "    ,cast(concat(height,'-',width) AS string) as ch_height_width\n",
    "    ,cast(dt_Creation as timestamp) as dt_creation\n",
    "    ,cast(dt_Update as timestamp) as dt_update\n",
    "from dev.tb_raw_api_cat                      \n",
    "\"\"\")\n",
    "dfTrusted.createOrReplaceTempView('tempTbTrusted')"
   ]
  },
  {
   "cell_type": "code",
   "execution_count": 0,
   "metadata": {
    "application/vnd.databricks.v1+cell": {
     "cellMetadata": {
      "byteLimit": 2048000,
      "implicitDf": true,
      "rowLimit": 10000
     },
     "inputWidgets": {},
     "nuid": "84fe5e69-7c03-4346-8897-33e50d8de1c8",
     "showTitle": false,
     "title": ""
    }
   },
   "outputs": [
    {
     "output_type": "execute_result",
     "data": {
      "text/plain": [
       "DataFrame[]"
      ]
     },
     "execution_count": 8,
     "metadata": {},
     "output_type": "execute_result"
    }
   ],
   "source": [
    "# (dfTrusted\n",
    "#     .write\n",
    "#     .format(\"delta\")\n",
    "#     .mode(\"overwrite\")\n",
    "#     .save('/mnt/DATALAKE/dev/Api_Test/tbApiCat/trusted')\n",
    "# )\n",
    "# spark.sql(\"create table if not exists dev.tb_trusted_api_cat using delta location '/mnt/DATALAKE/dev/Api_Test/tbApiCat/trusted'\")"
   ]
  },
  {
   "cell_type": "code",
   "execution_count": 0,
   "metadata": {
    "application/vnd.databricks.v1+cell": {
     "cellMetadata": {
      "byteLimit": 2048000,
      "implicitDf": true,
      "rowLimit": 10000
     },
     "inputWidgets": {},
     "nuid": "ea3c2c4e-932f-4af7-89e9-aaa72e158630",
     "showTitle": false,
     "title": ""
    }
   },
   "outputs": [
    {
     "output_type": "display_data",
     "data": {
      "text/html": [
       "<style scoped>\n",
       "  .table-result-container {\n",
       "    max-height: 300px;\n",
       "    overflow: auto;\n",
       "  }\n",
       "  table, th, td {\n",
       "    border: 1px solid black;\n",
       "    border-collapse: collapse;\n",
       "  }\n",
       "  th, td {\n",
       "    padding: 5px;\n",
       "  }\n",
       "  th {\n",
       "    text-align: left;\n",
       "  }\n",
       "</style><div class='table-result-container'><table class='table-result'><thead style='background-color: white'><tr><th>num_affected_rows</th><th>num_updated_rows</th><th>num_deleted_rows</th><th>num_inserted_rows</th></tr></thead><tbody><tr><td>30</td><td>30</td><td>0</td><td>0</td></tr></tbody></table></div>"
      ]
     },
     "metadata": {
      "application/vnd.databricks.v1+output": {
       "addedWidgets": {},
       "aggData": [],
       "aggError": "",
       "aggOverflow": false,
       "aggSchema": [],
       "aggSeriesLimitReached": false,
       "aggType": "",
       "arguments": {},
       "columnCustomDisplayInfos": {},
       "data": [
        [
         30,
         30,
         0,
         0
        ]
       ],
       "datasetInfos": [],
       "dbfsResultPath": null,
       "isJsonSchema": true,
       "metadata": {
        "dataframeName": "_sqldf",
        "executionCount": 14
       },
       "overflow": false,
       "plotOptions": {
        "customPlotOptions": {},
        "displayType": "table",
        "pivotAggregation": null,
        "pivotColumns": null,
        "xColumns": null,
        "yColumns": null
       },
       "removedWidgets": [],
       "schema": [
        {
         "metadata": "{}",
         "name": "num_affected_rows",
         "type": "\"long\""
        },
        {
         "metadata": "{}",
         "name": "num_updated_rows",
         "type": "\"long\""
        },
        {
         "metadata": "{}",
         "name": "num_deleted_rows",
         "type": "\"long\""
        },
        {
         "metadata": "{}",
         "name": "num_inserted_rows",
         "type": "\"long\""
        }
       ],
       "type": "table"
      }
     },
     "output_type": "display_data"
    }
   ],
   "source": [
    "%sql\n",
    "MERGE into dev.tb_trusted_api_cat as a\n",
    "using tempTbTrusted as b\n",
    "on a.id = b.id\n",
    "when matched then\n",
    "update set\n",
    "  a.id = b.id\n",
    "  ,a.ch_height_width = b.ch_height_width\n",
    "  ,a.dt_update = dateadd(hour,-3, current_timestamp())\n",
    "when not matched then\n",
    "insert (\n",
    "  id\n",
    "  ,ch_height_width\n",
    "  ,dt_creation\n",
    ")\n",
    "values(\n",
    "  id\n",
    "  ,ch_height_width\n",
    "  ,dateadd(hour,-3, current_timestamp())\n",
    ")"
   ]
  },
  {
   "cell_type": "code",
   "execution_count": 0,
   "metadata": {
    "application/vnd.databricks.v1+cell": {
     "cellMetadata": {
      "byteLimit": 2048000,
      "implicitDf": true,
      "rowLimit": 10000
     },
     "inputWidgets": {},
     "nuid": "4d2ece55-2fd7-4df6-bd05-589b4a6f0145",
     "showTitle": false,
     "title": ""
    }
   },
   "outputs": [
    {
     "output_type": "display_data",
     "data": {
      "text/html": [
       "<style scoped>\n",
       "  .table-result-container {\n",
       "    max-height: 300px;\n",
       "    overflow: auto;\n",
       "  }\n",
       "  table, th, td {\n",
       "    border: 1px solid black;\n",
       "    border-collapse: collapse;\n",
       "  }\n",
       "  th, td {\n",
       "    padding: 5px;\n",
       "  }\n",
       "  th {\n",
       "    text-align: left;\n",
       "  }\n",
       "</style><div class='table-result-container'><table class='table-result'><thead style='background-color: white'><tr><th>version</th><th>timestamp</th><th>userId</th><th>userName</th><th>operation</th><th>operationParameters</th><th>job</th><th>notebook</th><th>clusterId</th><th>readVersion</th><th>isolationLevel</th><th>isBlindAppend</th><th>operationMetrics</th><th>userMetadata</th><th>engineInfo</th></tr></thead><tbody><tr><td>3</td><td>2024-01-06T22:51:43.000+0000</td><td>7546781898469249</td><td>leonardocorreia@konsi.com.br</td><td>MERGE</td><td>Map(predicate -> [\"(id#59554 = id#59527)\"], matchedPredicates -> [{\"actionType\":\"update\"}], statsOnLoad -> false, notMatchedBySourcePredicates -> [], notMatchedPredicates -> [{\"actionType\":\"insert\"}])</td><td>List(168663033276661, Test_Api, 471899704029097, 393441194893824, 7546781898469249, manual)</td><td>List(3521540277099825)</td><td>0713-181254-potnk7h8</td><td>2</td><td>WriteSerializable</td><td>false</td><td>Map(numTargetRowsCopied -> 0, numTargetRowsDeleted -> 0, numTargetFilesAdded -> 3, numTargetBytesAdded -> 4914, numTargetBytesRemoved -> 3377, numTargetDeletionVectorsAdded -> 0, numTargetRowsMatchedUpdated -> 30, executionTimeMs -> 4435, numTargetRowsInserted -> 10, numTargetRowsMatchedDeleted -> 0, scanTimeMs -> 1885, numTargetRowsUpdated -> 30, numOutputRows -> 40, numTargetDeletionVectorsRemoved -> 0, numTargetRowsNotMatchedBySourceUpdated -> 0, numTargetChangeFilesAdded -> 0, numSourceRows -> 40, numTargetFilesRemoved -> 2, numTargetRowsNotMatchedBySourceDeleted -> 0, rewriteTimeMs -> 2111)</td><td>null</td><td>Databricks-Runtime/13.2.x-cpu-ml-scala2.12</td></tr><tr><td>2</td><td>2024-01-06T22:40:05.000+0000</td><td>7546781898469249</td><td>leonardocorreia@konsi.com.br</td><td>MERGE</td><td>Map(predicate -> [\"(id#56349 = id#54966)\"], matchedPredicates -> [{\"actionType\":\"update\"}], statsOnLoad -> false, notMatchedBySourcePredicates -> [], notMatchedPredicates -> [{\"actionType\":\"insert\"}])</td><td>null</td><td>List(3521540277099825)</td><td>0713-181254-potnk7h8</td><td>1</td><td>WriteSerializable</td><td>false</td><td>Map(numTargetRowsCopied -> 0, numTargetRowsDeleted -> 0, numTargetFilesAdded -> 2, numTargetBytesAdded -> 3377, numTargetBytesRemoved -> 3274, numTargetDeletionVectorsAdded -> 0, numTargetRowsMatchedUpdated -> 30, executionTimeMs -> 4596, numTargetRowsInserted -> 0, numTargetRowsMatchedDeleted -> 0, scanTimeMs -> 1987, numTargetRowsUpdated -> 30, numOutputRows -> 30, numTargetDeletionVectorsRemoved -> 0, numTargetRowsNotMatchedBySourceUpdated -> 0, numTargetChangeFilesAdded -> 0, numSourceRows -> 30, numTargetFilesRemoved -> 2, numTargetRowsNotMatchedBySourceDeleted -> 0, rewriteTimeMs -> 2140)</td><td>null</td><td>Databricks-Runtime/13.2.x-cpu-ml-scala2.12</td></tr><tr><td>1</td><td>2024-01-06T22:29:32.000+0000</td><td>7546781898469249</td><td>leonardocorreia@konsi.com.br</td><td>WRITE</td><td>Map(mode -> Overwrite, statsOnLoad -> false, partitionBy -> [])</td><td>null</td><td>List(3521540277099825)</td><td>0713-181254-potnk7h8</td><td>0</td><td>WriteSerializable</td><td>false</td><td>Map(numFiles -> 2, numOutputRows -> 30, numOutputBytes -> 3274)</td><td>null</td><td>Databricks-Runtime/13.2.x-cpu-ml-scala2.12</td></tr><tr><td>0</td><td>2024-01-06T22:28:11.000+0000</td><td>7546781898469249</td><td>leonardocorreia@konsi.com.br</td><td>WRITE</td><td>Map(mode -> Overwrite, statsOnLoad -> false, partitionBy -> [])</td><td>null</td><td>List(3521540277099825)</td><td>0713-181254-potnk7h8</td><td>null</td><td>WriteSerializable</td><td>false</td><td>Map(numFiles -> 2, numOutputRows -> 30, numOutputBytes -> 3274)</td><td>null</td><td>Databricks-Runtime/13.2.x-cpu-ml-scala2.12</td></tr></tbody></table></div>"
      ]
     },
     "metadata": {
      "application/vnd.databricks.v1+output": {
       "addedWidgets": {},
       "aggData": [],
       "aggError": "",
       "aggOverflow": false,
       "aggSchema": [],
       "aggSeriesLimitReached": false,
       "aggType": "",
       "arguments": {},
       "columnCustomDisplayInfos": {},
       "data": [
        [
         3,
         "2024-01-06T22:51:43.000+0000",
         "7546781898469249",
         "leonardocorreia@konsi.com.br",
         "MERGE",
         {
          "matchedPredicates": "[{\"actionType\":\"update\"}]",
          "notMatchedBySourcePredicates": "[]",
          "notMatchedPredicates": "[{\"actionType\":\"insert\"}]",
          "predicate": "[\"(id#59554 = id#59527)\"]",
          "statsOnLoad": "false"
         },
         [
          "168663033276661",
          "Test_Api",
          "471899704029097",
          "393441194893824",
          "7546781898469249",
          "manual"
         ],
         [
          "3521540277099825"
         ],
         "0713-181254-potnk7h8",
         2,
         "WriteSerializable",
         false,
         {
          "executionTimeMs": "4435",
          "numOutputRows": "40",
          "numSourceRows": "40",
          "numTargetBytesAdded": "4914",
          "numTargetBytesRemoved": "3377",
          "numTargetChangeFilesAdded": "0",
          "numTargetDeletionVectorsAdded": "0",
          "numTargetDeletionVectorsRemoved": "0",
          "numTargetFilesAdded": "3",
          "numTargetFilesRemoved": "2",
          "numTargetRowsCopied": "0",
          "numTargetRowsDeleted": "0",
          "numTargetRowsInserted": "10",
          "numTargetRowsMatchedDeleted": "0",
          "numTargetRowsMatchedUpdated": "30",
          "numTargetRowsNotMatchedBySourceDeleted": "0",
          "numTargetRowsNotMatchedBySourceUpdated": "0",
          "numTargetRowsUpdated": "30",
          "rewriteTimeMs": "2111",
          "scanTimeMs": "1885"
         },
         null,
         "Databricks-Runtime/13.2.x-cpu-ml-scala2.12"
        ],
        [
         2,
         "2024-01-06T22:40:05.000+0000",
         "7546781898469249",
         "leonardocorreia@konsi.com.br",
         "MERGE",
         {
          "matchedPredicates": "[{\"actionType\":\"update\"}]",
          "notMatchedBySourcePredicates": "[]",
          "notMatchedPredicates": "[{\"actionType\":\"insert\"}]",
          "predicate": "[\"(id#56349 = id#54966)\"]",
          "statsOnLoad": "false"
         },
         null,
         [
          "3521540277099825"
         ],
         "0713-181254-potnk7h8",
         1,
         "WriteSerializable",
         false,
         {
          "executionTimeMs": "4596",
          "numOutputRows": "30",
          "numSourceRows": "30",
          "numTargetBytesAdded": "3377",
          "numTargetBytesRemoved": "3274",
          "numTargetChangeFilesAdded": "0",
          "numTargetDeletionVectorsAdded": "0",
          "numTargetDeletionVectorsRemoved": "0",
          "numTargetFilesAdded": "2",
          "numTargetFilesRemoved": "2",
          "numTargetRowsCopied": "0",
          "numTargetRowsDeleted": "0",
          "numTargetRowsInserted": "0",
          "numTargetRowsMatchedDeleted": "0",
          "numTargetRowsMatchedUpdated": "30",
          "numTargetRowsNotMatchedBySourceDeleted": "0",
          "numTargetRowsNotMatchedBySourceUpdated": "0",
          "numTargetRowsUpdated": "30",
          "rewriteTimeMs": "2140",
          "scanTimeMs": "1987"
         },
         null,
         "Databricks-Runtime/13.2.x-cpu-ml-scala2.12"
        ],
        [
         1,
         "2024-01-06T22:29:32.000+0000",
         "7546781898469249",
         "leonardocorreia@konsi.com.br",
         "WRITE",
         {
          "mode": "Overwrite",
          "partitionBy": "[]",
          "statsOnLoad": "false"
         },
         null,
         [
          "3521540277099825"
         ],
         "0713-181254-potnk7h8",
         0,
         "WriteSerializable",
         false,
         {
          "numFiles": "2",
          "numOutputBytes": "3274",
          "numOutputRows": "30"
         },
         null,
         "Databricks-Runtime/13.2.x-cpu-ml-scala2.12"
        ],
        [
         0,
         "2024-01-06T22:28:11.000+0000",
         "7546781898469249",
         "leonardocorreia@konsi.com.br",
         "WRITE",
         {
          "mode": "Overwrite",
          "partitionBy": "[]",
          "statsOnLoad": "false"
         },
         null,
         [
          "3521540277099825"
         ],
         "0713-181254-potnk7h8",
         null,
         "WriteSerializable",
         false,
         {
          "numFiles": "2",
          "numOutputBytes": "3274",
          "numOutputRows": "30"
         },
         null,
         "Databricks-Runtime/13.2.x-cpu-ml-scala2.12"
        ]
       ],
       "datasetInfos": [],
       "dbfsResultPath": null,
       "isJsonSchema": true,
       "metadata": {
        "dataframeName": "_sqldf",
        "executionCount": 17
       },
       "overflow": false,
       "plotOptions": {
        "customPlotOptions": {},
        "displayType": "table",
        "pivotAggregation": null,
        "pivotColumns": null,
        "xColumns": null,
        "yColumns": null
       },
       "removedWidgets": [],
       "schema": [
        {
         "metadata": "{}",
         "name": "version",
         "type": "\"long\""
        },
        {
         "metadata": "{}",
         "name": "timestamp",
         "type": "\"timestamp\""
        },
        {
         "metadata": "{}",
         "name": "userId",
         "type": "\"string\""
        },
        {
         "metadata": "{}",
         "name": "userName",
         "type": "\"string\""
        },
        {
         "metadata": "{}",
         "name": "operation",
         "type": "\"string\""
        },
        {
         "metadata": "{}",
         "name": "operationParameters",
         "type": "{\"type\":\"map\",\"keyType\":\"string\",\"valueType\":\"string\",\"valueContainsNull\":true}"
        },
        {
         "metadata": "{}",
         "name": "job",
         "type": "{\"type\":\"struct\",\"fields\":[{\"name\":\"jobId\",\"type\":\"string\",\"nullable\":true,\"metadata\":{}},{\"name\":\"jobName\",\"type\":\"string\",\"nullable\":true,\"metadata\":{}},{\"name\":\"jobRunId\",\"type\":\"string\",\"nullable\":true,\"metadata\":{}},{\"name\":\"runId\",\"type\":\"string\",\"nullable\":true,\"metadata\":{}},{\"name\":\"jobOwnerId\",\"type\":\"string\",\"nullable\":true,\"metadata\":{}},{\"name\":\"triggerType\",\"type\":\"string\",\"nullable\":true,\"metadata\":{}}]}"
        },
        {
         "metadata": "{}",
         "name": "notebook",
         "type": "{\"type\":\"struct\",\"fields\":[{\"name\":\"notebookId\",\"type\":\"string\",\"nullable\":true,\"metadata\":{}}]}"
        },
        {
         "metadata": "{}",
         "name": "clusterId",
         "type": "\"string\""
        },
        {
         "metadata": "{}",
         "name": "readVersion",
         "type": "\"long\""
        },
        {
         "metadata": "{}",
         "name": "isolationLevel",
         "type": "\"string\""
        },
        {
         "metadata": "{}",
         "name": "isBlindAppend",
         "type": "\"boolean\""
        },
        {
         "metadata": "{}",
         "name": "operationMetrics",
         "type": "{\"type\":\"map\",\"keyType\":\"string\",\"valueType\":\"string\",\"valueContainsNull\":true}"
        },
        {
         "metadata": "{}",
         "name": "userMetadata",
         "type": "\"string\""
        },
        {
         "metadata": "{}",
         "name": "engineInfo",
         "type": "\"string\""
        }
       ],
       "type": "table"
      }
     },
     "output_type": "display_data"
    }
   ],
   "source": [
    "%sql\n",
    "describe history dev.tb_trusted_api_cat"
   ]
  }
 ],
 "metadata": {
  "application/vnd.databricks.v1+notebook": {
   "dashboards": [],
   "language": "python",
   "notebookMetadata": {
    "mostRecentlyExecutedCommandWithImplicitDF": {
     "commandId": 3521540277099832,
     "dataframes": [
      "_sqldf"
     ]
    },
    "pythonIndentUnit": 4
   },
   "notebookName": "NboTrustedApiTest",
   "widgets": {}
  }
 },
 "nbformat": 4,
 "nbformat_minor": 0
}
