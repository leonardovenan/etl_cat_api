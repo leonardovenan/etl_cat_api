{
 "cells": [
  {
   "cell_type": "code",
   "execution_count": 0,
   "metadata": {
    "application/vnd.databricks.v1+cell": {
     "cellMetadata": {
      "byteLimit": 2048000,
      "rowLimit": 10000
     },
     "inputWidgets": {},
     "nuid": "57f09531-82eb-4178-b703-71e096e83a84",
     "showTitle": false,
     "title": ""
    }
   },
   "outputs": [],
   "source": [
    "dfDelivery = spark.sql(\"\"\"\n",
    "    select id, ch_height_width from dev.tb_trusted_api_cat\n",
    "\"\"\")"
   ]
  },
  {
   "cell_type": "code",
   "execution_count": 0,
   "metadata": {
    "application/vnd.databricks.v1+cell": {
     "cellMetadata": {
      "byteLimit": 2048000,
      "rowLimit": 10000
     },
     "inputWidgets": {},
     "nuid": "cd7741a5-e0e1-4529-b5da-4c74aaa009d2",
     "showTitle": false,
     "title": ""
    }
   },
   "outputs": [
    {
     "output_type": "execute_result",
     "data": {
      "text/plain": [
       "DataFrame[]"
      ]
     },
     "execution_count": 20,
     "metadata": {},
     "output_type": "execute_result"
    }
   ],
   "source": [
    "(dfDelivery\n",
    "    .write\n",
    "    .format(\"delta\")\n",
    "    .mode(\"overwrite\")\n",
    "    .save(\"/mnt/DATALAKE/dev/Api_Test/tbApiCat/DeliveryWithoutVersion\")\n",
    ")\n",
    "spark.sql(\"create table if not exists dev.tb_delivery_api_cat_without_version using delta location '/mnt/DATALAKE/dev/Api_Test/tbApiCat/DeliveryWithoutVersion'\")"
   ]
  },
  {
   "cell_type": "code",
   "execution_count": 0,
   "metadata": {
    "application/vnd.databricks.v1+cell": {
     "cellMetadata": {
      "byteLimit": 2048000,
      "rowLimit": 10000
     },
     "inputWidgets": {},
     "nuid": "02300c70-4226-4198-971d-fbcdc6f41797",
     "showTitle": false,
     "title": ""
    }
   },
   "outputs": [],
   "source": [
    "dfMetaData = spark.sql (\"describe history dev.tb_delivery_api_cat_without_version\")"
   ]
  },
  {
   "cell_type": "code",
   "execution_count": 0,
   "metadata": {
    "application/vnd.databricks.v1+cell": {
     "cellMetadata": {
      "byteLimit": 2048000,
      "rowLimit": 10000
     },
     "inputWidgets": {},
     "nuid": "ee9203fd-80c1-4b5f-826b-8e779ddc0a6d",
     "showTitle": false,
     "title": ""
    }
   },
   "outputs": [],
   "source": [
    "(dfMetaData\n",
    "    .write\n",
    "    .format(\"json\")\n",
    "    .mode(\"overWrite\")\n",
    "    .save(\"/mnt/DATALAKE/dev/Api_Test/tbApiCat/MetadadoApiCat\")\n",
    ")"
   ]
  },
  {
   "cell_type": "code",
   "execution_count": 0,
   "metadata": {
    "application/vnd.databricks.v1+cell": {
     "cellMetadata": {
      "byteLimit": 2048000,
      "rowLimit": 10000
     },
     "inputWidgets": {},
     "nuid": "667fc8b7-f3da-479e-bd00-36678bdc5faf",
     "showTitle": false,
     "title": ""
    }
   },
   "outputs": [],
   "source": [
    "df_metadata = spark.read.option('multiline', 'true').json('/mnt/DATALAKE/dev/Api_Test/tbApiCat/MetadadoApiCat')\n",
    "#df_teste.display()"
   ]
  },
  {
   "cell_type": "code",
   "execution_count": 0,
   "metadata": {
    "application/vnd.databricks.v1+cell": {
     "cellMetadata": {
      "byteLimit": 2048000,
      "rowLimit": 10000
     },
     "inputWidgets": {},
     "nuid": "db7243d8-21e5-4172-9962-fa484b3f9edb",
     "showTitle": false,
     "title": ""
    }
   },
   "outputs": [],
   "source": [
    "from pyspark.sql.functions import lit\n",
    "\n",
    "version = df_metadata.select(\"version\").first()[0]\n",
    "date_mt = df_metadata.select(\"timestamp\").first()[0]\n",
    "\n",
    "df_version = (dfDelivery.withColumn(\"Table_Metadata_Version\", lit(version))\n",
    "                        .withColumn(\"Table_Metadata_Date\", lit(date_mt))\n",
    "              )\n",
    "df_version = df_version.withColumn(\"Table_Metadata_Date\", df_version[\"Table_Metadata_Date\"].cast(\"timestamp\"))\n"
   ]
  },
  {
   "cell_type": "code",
   "execution_count": 0,
   "metadata": {
    "application/vnd.databricks.v1+cell": {
     "cellMetadata": {
      "byteLimit": 2048000,
      "rowLimit": 10000
     },
     "inputWidgets": {},
     "nuid": "424612d1-393f-439d-b739-503871bce033",
     "showTitle": false,
     "title": ""
    }
   },
   "outputs": [
    {
     "output_type": "execute_result",
     "data": {
      "text/plain": [
       "DataFrame[]"
      ]
     },
     "execution_count": 26,
     "metadata": {},
     "output_type": "execute_result"
    }
   ],
   "source": [
    "(df_version\n",
    "    .write\n",
    "    .format(\"delta\")\n",
    "    .mode(\"overwrite\")\n",
    "    .save(\"/mnt/DATALAKE/dev/Api_Test/tbApiCat/Delivery\")\n",
    ")\n",
    "spark.sql(\"create table if not exists dev.tb_delivery_api_cat using delta location '/mnt/DATALAKE/dev/Api_Test/tbApiCat/Delivery'\")"
   ]
  },
  {
   "cell_type": "code",
   "execution_count": 0,
   "metadata": {
    "application/vnd.databricks.v1+cell": {
     "cellMetadata": {
      "byteLimit": 2048000,
      "implicitDf": true,
      "rowLimit": 10000
     },
     "inputWidgets": {},
     "nuid": "aedd6ec8-cd75-400d-b366-79c30d9eeb90",
     "showTitle": false,
     "title": ""
    }
   },
   "outputs": [
    {
     "output_type": "display_data",
     "data": {
      "text/html": [
       "<style scoped>\n",
       "  .table-result-container {\n",
       "    max-height: 300px;\n",
       "    overflow: auto;\n",
       "  }\n",
       "  table, th, td {\n",
       "    border: 1px solid black;\n",
       "    border-collapse: collapse;\n",
       "  }\n",
       "  th, td {\n",
       "    padding: 5px;\n",
       "  }\n",
       "  th {\n",
       "    text-align: left;\n",
       "  }\n",
       "</style><div class='table-result-container'><table class='table-result'><thead style='background-color: white'><tr><th>id</th><th>ch_height_width</th><th>Table_Metadata_Version</th><th>Table_Metadata_Date</th></tr></thead><tbody><tr><td>54m</td><td>641-467</td><td>2</td><td>2024-01-06T23:17:16.000+0000</td></tr><tr><td>dmm</td><td>640-427</td><td>2</td><td>2024-01-06T23:17:16.000+0000</td></tr><tr><td>p2U4ZXgKL</td><td>2099-1664</td><td>2</td><td>2024-01-06T23:17:16.000+0000</td></tr><tr><td>a98</td><td>600-800</td><td>2</td><td>2024-01-06T23:17:16.000+0000</td></tr><tr><td>20i</td><td>958-960</td><td>2</td><td>2024-01-06T23:17:16.000+0000</td></tr><tr><td>b0u</td><td>3264-2448</td><td>2</td><td>2024-01-06T23:17:16.000+0000</td></tr><tr><td>drm</td><td>375-500</td><td>2</td><td>2024-01-06T23:17:16.000+0000</td></tr><tr><td>bh2</td><td>334-500</td><td>2</td><td>2024-01-06T23:17:16.000+0000</td></tr><tr><td>47e</td><td>600-900</td><td>2</td><td>2024-01-06T23:17:16.000+0000</td></tr><tr><td>MTYyOTYwNw</td><td>360-640</td><td>2</td><td>2024-01-06T23:17:16.000+0000</td></tr><tr><td>TuSyTkt2n</td><td>2147-2475</td><td>2</td><td>2024-01-06T23:17:16.000+0000</td></tr><tr><td>7ak</td><td>336-500</td><td>2</td><td>2024-01-06T23:17:16.000+0000</td></tr><tr><td>MTUyMTIyNQ</td><td>333-500</td><td>2</td><td>2024-01-06T23:17:16.000+0000</td></tr><tr><td>b2m</td><td>281-500</td><td>2</td><td>2024-01-06T23:17:16.000+0000</td></tr><tr><td>akv</td><td>989-1555</td><td>2</td><td>2024-01-06T23:17:16.000+0000</td></tr><tr><td>MTgzNDM0Ng</td><td>466-700</td><td>2</td><td>2024-01-06T23:17:16.000+0000</td></tr><tr><td>b61</td><td>612-612</td><td>2</td><td>2024-01-06T23:17:16.000+0000</td></tr><tr><td>b9l</td><td>341-500</td><td>2</td><td>2024-01-06T23:17:16.000+0000</td></tr><tr><td>bfm</td><td>333-500</td><td>2</td><td>2024-01-06T23:17:16.000+0000</td></tr><tr><td>rs</td><td>640-480</td><td>2</td><td>2024-01-06T23:17:16.000+0000</td></tr><tr><td>fu</td><td>855-1280</td><td>2</td><td>2024-01-06T23:17:16.000+0000</td></tr><tr><td>bo8</td><td>600-800</td><td>2</td><td>2024-01-06T23:17:16.000+0000</td></tr><tr><td>bpZGfNLW1</td><td>739-1100</td><td>2</td><td>2024-01-06T23:17:16.000+0000</td></tr><tr><td>vjJDjiXQQ</td><td>1725-1024</td><td>2</td><td>2024-01-06T23:17:16.000+0000</td></tr><tr><td>MTYyNTc1MA</td><td>1200-1600</td><td>2</td><td>2024-01-06T23:17:16.000+0000</td></tr><tr><td>-Zfz5z2jK</td><td>1123-1691</td><td>2</td><td>2024-01-06T23:17:16.000+0000</td></tr><tr><td>2oo</td><td>186-330</td><td>2</td><td>2024-01-06T23:17:16.000+0000</td></tr><tr><td>dj3</td><td>640-480</td><td>2</td><td>2024-01-06T23:17:16.000+0000</td></tr><tr><td>anu</td><td>300-225</td><td>2</td><td>2024-01-06T23:17:16.000+0000</td></tr><tr><td>4-5SzDNIL</td><td>1100-880</td><td>2</td><td>2024-01-06T23:17:16.000+0000</td></tr><tr><td>dgk</td><td>675-1024</td><td>2</td><td>2024-01-06T23:17:16.000+0000</td></tr><tr><td>dav</td><td>429-640</td><td>2</td><td>2024-01-06T23:17:16.000+0000</td></tr><tr><td>BDb8ZXb1v</td><td>1067-1600</td><td>2</td><td>2024-01-06T23:17:16.000+0000</td></tr><tr><td>MjA1NjQxMg</td><td>333-500</td><td>2</td><td>2024-01-06T23:17:16.000+0000</td></tr><tr><td>beb</td><td>380-500</td><td>2</td><td>2024-01-06T23:17:16.000+0000</td></tr><tr><td>eh1</td><td>371-500</td><td>2</td><td>2024-01-06T23:17:16.000+0000</td></tr><tr><td>cul</td><td>261-240</td><td>2</td><td>2024-01-06T23:17:16.000+0000</td></tr><tr><td>3k7</td><td>263-350</td><td>2</td><td>2024-01-06T23:17:16.000+0000</td></tr><tr><td>6y4uxeRjW</td><td>2448-3264</td><td>2</td><td>2024-01-06T23:17:16.000+0000</td></tr><tr><td>MTcxMzc5Mg</td><td>429-640</td><td>2</td><td>2024-01-06T23:17:16.000+0000</td></tr></tbody></table></div>"
      ]
     },
     "metadata": {
      "application/vnd.databricks.v1+output": {
       "addedWidgets": {},
       "aggData": [],
       "aggError": "",
       "aggOverflow": false,
       "aggSchema": [],
       "aggSeriesLimitReached": false,
       "aggType": "",
       "arguments": {},
       "columnCustomDisplayInfos": {},
       "data": [
        [
         "54m",
         "641-467",
         2,
         "2024-01-06T23:17:16.000+0000"
        ],
        [
         "dmm",
         "640-427",
         2,
         "2024-01-06T23:17:16.000+0000"
        ],
        [
         "p2U4ZXgKL",
         "2099-1664",
         2,
         "2024-01-06T23:17:16.000+0000"
        ],
        [
         "a98",
         "600-800",
         2,
         "2024-01-06T23:17:16.000+0000"
        ],
        [
         "20i",
         "958-960",
         2,
         "2024-01-06T23:17:16.000+0000"
        ],
        [
         "b0u",
         "3264-2448",
         2,
         "2024-01-06T23:17:16.000+0000"
        ],
        [
         "drm",
         "375-500",
         2,
         "2024-01-06T23:17:16.000+0000"
        ],
        [
         "bh2",
         "334-500",
         2,
         "2024-01-06T23:17:16.000+0000"
        ],
        [
         "47e",
         "600-900",
         2,
         "2024-01-06T23:17:16.000+0000"
        ],
        [
         "MTYyOTYwNw",
         "360-640",
         2,
         "2024-01-06T23:17:16.000+0000"
        ],
        [
         "TuSyTkt2n",
         "2147-2475",
         2,
         "2024-01-06T23:17:16.000+0000"
        ],
        [
         "7ak",
         "336-500",
         2,
         "2024-01-06T23:17:16.000+0000"
        ],
        [
         "MTUyMTIyNQ",
         "333-500",
         2,
         "2024-01-06T23:17:16.000+0000"
        ],
        [
         "b2m",
         "281-500",
         2,
         "2024-01-06T23:17:16.000+0000"
        ],
        [
         "akv",
         "989-1555",
         2,
         "2024-01-06T23:17:16.000+0000"
        ],
        [
         "MTgzNDM0Ng",
         "466-700",
         2,
         "2024-01-06T23:17:16.000+0000"
        ],
        [
         "b61",
         "612-612",
         2,
         "2024-01-06T23:17:16.000+0000"
        ],
        [
         "b9l",
         "341-500",
         2,
         "2024-01-06T23:17:16.000+0000"
        ],
        [
         "bfm",
         "333-500",
         2,
         "2024-01-06T23:17:16.000+0000"
        ],
        [
         "rs",
         "640-480",
         2,
         "2024-01-06T23:17:16.000+0000"
        ],
        [
         "fu",
         "855-1280",
         2,
         "2024-01-06T23:17:16.000+0000"
        ],
        [
         "bo8",
         "600-800",
         2,
         "2024-01-06T23:17:16.000+0000"
        ],
        [
         "bpZGfNLW1",
         "739-1100",
         2,
         "2024-01-06T23:17:16.000+0000"
        ],
        [
         "vjJDjiXQQ",
         "1725-1024",
         2,
         "2024-01-06T23:17:16.000+0000"
        ],
        [
         "MTYyNTc1MA",
         "1200-1600",
         2,
         "2024-01-06T23:17:16.000+0000"
        ],
        [
         "-Zfz5z2jK",
         "1123-1691",
         2,
         "2024-01-06T23:17:16.000+0000"
        ],
        [
         "2oo",
         "186-330",
         2,
         "2024-01-06T23:17:16.000+0000"
        ],
        [
         "dj3",
         "640-480",
         2,
         "2024-01-06T23:17:16.000+0000"
        ],
        [
         "anu",
         "300-225",
         2,
         "2024-01-06T23:17:16.000+0000"
        ],
        [
         "4-5SzDNIL",
         "1100-880",
         2,
         "2024-01-06T23:17:16.000+0000"
        ],
        [
         "dgk",
         "675-1024",
         2,
         "2024-01-06T23:17:16.000+0000"
        ],
        [
         "dav",
         "429-640",
         2,
         "2024-01-06T23:17:16.000+0000"
        ],
        [
         "BDb8ZXb1v",
         "1067-1600",
         2,
         "2024-01-06T23:17:16.000+0000"
        ],
        [
         "MjA1NjQxMg",
         "333-500",
         2,
         "2024-01-06T23:17:16.000+0000"
        ],
        [
         "beb",
         "380-500",
         2,
         "2024-01-06T23:17:16.000+0000"
        ],
        [
         "eh1",
         "371-500",
         2,
         "2024-01-06T23:17:16.000+0000"
        ],
        [
         "cul",
         "261-240",
         2,
         "2024-01-06T23:17:16.000+0000"
        ],
        [
         "3k7",
         "263-350",
         2,
         "2024-01-06T23:17:16.000+0000"
        ],
        [
         "6y4uxeRjW",
         "2448-3264",
         2,
         "2024-01-06T23:17:16.000+0000"
        ],
        [
         "MTcxMzc5Mg",
         "429-640",
         2,
         "2024-01-06T23:17:16.000+0000"
        ]
       ],
       "datasetInfos": [],
       "dbfsResultPath": null,
       "isJsonSchema": true,
       "metadata": {
        "dataframeName": "_sqldf",
        "executionCount": 27
       },
       "overflow": false,
       "plotOptions": {
        "customPlotOptions": {},
        "displayType": "table",
        "pivotAggregation": null,
        "pivotColumns": null,
        "xColumns": null,
        "yColumns": null
       },
       "removedWidgets": [],
       "schema": [
        {
         "metadata": "{}",
         "name": "id",
         "type": "\"string\""
        },
        {
         "metadata": "{}",
         "name": "ch_height_width",
         "type": "\"string\""
        },
        {
         "metadata": "{}",
         "name": "Table_Metadata_Version",
         "type": "\"integer\""
        },
        {
         "metadata": "{}",
         "name": "Table_Metadata_Date",
         "type": "\"timestamp\""
        }
       ],
       "type": "table"
      }
     },
     "output_type": "display_data"
    }
   ],
   "source": [
    "%sql\n",
    "select * from dev.tb_delivery_api_cat"
   ]
  }
 ],
 "metadata": {
  "application/vnd.databricks.v1+notebook": {
   "dashboards": [],
   "language": "python",
   "notebookMetadata": {
    "mostRecentlyExecutedCommandWithImplicitDF": {
     "commandId": 3521540277099859,
     "dataframes": [
      "_sqldf"
     ]
    },
    "pythonIndentUnit": 4
   },
   "notebookName": "NboDeliveryApiTest",
   "widgets": {}
  }
 },
 "nbformat": 4,
 "nbformat_minor": 0
}
